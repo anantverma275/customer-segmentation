{
 "cells": [
  {
   "cell_type": "code",
   "execution_count": 2,
   "metadata": {},
   "outputs": [],
   "source": [
    "import pandas as pd\n",
    "import numpy as np"
   ]
  },
  {
   "cell_type": "code",
   "execution_count": 3,
   "metadata": {},
   "outputs": [],
   "source": [
    "df = pd.read_csv(\"Datasets/M3CustSeg.csv\")"
   ]
  },
  {
   "cell_type": "code",
   "execution_count": 4,
   "metadata": {},
   "outputs": [
    {
     "data": {
      "text/html": [
       "<div>\n",
       "<style scoped>\n",
       "    .dataframe tbody tr th:only-of-type {\n",
       "        vertical-align: middle;\n",
       "    }\n",
       "\n",
       "    .dataframe tbody tr th {\n",
       "        vertical-align: top;\n",
       "    }\n",
       "\n",
       "    .dataframe thead th {\n",
       "        text-align: right;\n",
       "    }\n",
       "</style>\n",
       "<table border=\"1\" class=\"dataframe\">\n",
       "  <thead>\n",
       "    <tr style=\"text-align: right;\">\n",
       "      <th></th>\n",
       "      <th>M3Company</th>\n",
       "      <th>Order_Number</th>\n",
       "      <th>Order_Line_Number</th>\n",
       "      <th>Customer</th>\n",
       "      <th>Requested_delivery_date</th>\n",
       "      <th>Confirmed_delivery_date</th>\n",
       "      <th>Days_betw_actual_planned_departure_date</th>\n",
       "      <th>Days_between_actual_and_required_del_dt</th>\n",
       "      <th>Days_between_actual_dely_dt_and_order_dt</th>\n",
       "      <th>Days_between_conf_and_required_dely_date</th>\n",
       "      <th>Delivery_Date</th>\n",
       "    </tr>\n",
       "  </thead>\n",
       "  <tbody>\n",
       "    <tr>\n",
       "      <td>0</td>\n",
       "      <td>101</td>\n",
       "      <td>2012011574</td>\n",
       "      <td>2</td>\n",
       "      <td>CJ200</td>\n",
       "      <td>4/7/2020</td>\n",
       "      <td>4/7/2020</td>\n",
       "      <td>0</td>\n",
       "      <td>0</td>\n",
       "      <td>0</td>\n",
       "      <td>0</td>\n",
       "      <td>4/7/2020</td>\n",
       "    </tr>\n",
       "    <tr>\n",
       "      <td>1</td>\n",
       "      <td>101</td>\n",
       "      <td>2011014219</td>\n",
       "      <td>1</td>\n",
       "      <td>CJ110</td>\n",
       "      <td>4/7/2020</td>\n",
       "      <td>4/7/2020</td>\n",
       "      <td>999</td>\n",
       "      <td>999</td>\n",
       "      <td>0</td>\n",
       "      <td>999</td>\n",
       "      <td>4/7/2020</td>\n",
       "    </tr>\n",
       "    <tr>\n",
       "      <td>2</td>\n",
       "      <td>101</td>\n",
       "      <td>2012011649</td>\n",
       "      <td>1</td>\n",
       "      <td>AL115</td>\n",
       "      <td>5/11/2020</td>\n",
       "      <td>5/11/2020</td>\n",
       "      <td>0</td>\n",
       "      <td>0</td>\n",
       "      <td>0</td>\n",
       "      <td>0</td>\n",
       "      <td>5/10/2020</td>\n",
       "    </tr>\n",
       "    <tr>\n",
       "      <td>3</td>\n",
       "      <td>400</td>\n",
       "      <td>4003115442</td>\n",
       "      <td>1</td>\n",
       "      <td>49-2001</td>\n",
       "      <td>2/4/2020</td>\n",
       "      <td>2/4/2020</td>\n",
       "      <td>-8</td>\n",
       "      <td>-8</td>\n",
       "      <td>0</td>\n",
       "      <td>0</td>\n",
       "      <td>1/27/2020</td>\n",
       "    </tr>\n",
       "    <tr>\n",
       "      <td>4</td>\n",
       "      <td>400</td>\n",
       "      <td>4003115442</td>\n",
       "      <td>2</td>\n",
       "      <td>49-2001</td>\n",
       "      <td>2/4/2020</td>\n",
       "      <td>2/4/2020</td>\n",
       "      <td>-8</td>\n",
       "      <td>-8</td>\n",
       "      <td>0</td>\n",
       "      <td>0</td>\n",
       "      <td>1/27/2020</td>\n",
       "    </tr>\n",
       "  </tbody>\n",
       "</table>\n",
       "</div>"
      ],
      "text/plain": [
       "   M3Company Order_Number  Order_Line_Number Customer Requested_delivery_date  \\\n",
       "0        101   2012011574                  2    CJ200                4/7/2020   \n",
       "1        101   2011014219                  1    CJ110                4/7/2020   \n",
       "2        101   2012011649                  1    AL115               5/11/2020   \n",
       "3        400   4003115442                  1  49-2001                2/4/2020   \n",
       "4        400   4003115442                  2  49-2001                2/4/2020   \n",
       "\n",
       "  Confirmed_delivery_date  Days_betw_actual_planned_departure_date  \\\n",
       "0                4/7/2020                                        0   \n",
       "1                4/7/2020                                      999   \n",
       "2               5/11/2020                                        0   \n",
       "3                2/4/2020                                       -8   \n",
       "4                2/4/2020                                       -8   \n",
       "\n",
       "   Days_between_actual_and_required_del_dt  \\\n",
       "0                                        0   \n",
       "1                                      999   \n",
       "2                                        0   \n",
       "3                                       -8   \n",
       "4                                       -8   \n",
       "\n",
       "   Days_between_actual_dely_dt_and_order_dt  \\\n",
       "0                                         0   \n",
       "1                                         0   \n",
       "2                                         0   \n",
       "3                                         0   \n",
       "4                                         0   \n",
       "\n",
       "   Days_between_conf_and_required_dely_date Delivery_Date  \n",
       "0                                         0      4/7/2020  \n",
       "1                                       999      4/7/2020  \n",
       "2                                         0     5/10/2020  \n",
       "3                                         0     1/27/2020  \n",
       "4                                         0     1/27/2020  "
      ]
     },
     "execution_count": 4,
     "metadata": {},
     "output_type": "execute_result"
    }
   ],
   "source": [
    "df.head()"
   ]
  },
  {
   "cell_type": "code",
   "execution_count": 5,
   "metadata": {},
   "outputs": [
    {
     "data": {
      "text/plain": [
       "M3Company                                            int64\n",
       "Order_Number                                        object\n",
       "Order_Line_Number                                    int64\n",
       "Customer                                            object\n",
       "Requested_delivery_date                     datetime64[ns]\n",
       "Confirmed_delivery_date                     datetime64[ns]\n",
       "Days_betw_actual_planned_departure_date              int64\n",
       "Days_between_actual_and_required_del_dt              int64\n",
       "Days_between_actual_dely_dt_and_order_dt             int64\n",
       "Days_between_conf_and_required_dely_date             int64\n",
       "Delivery_Date                               datetime64[ns]\n",
       "dtype: object"
      ]
     },
     "execution_count": 5,
     "metadata": {},
     "output_type": "execute_result"
    }
   ],
   "source": [
    "df['Requested_delivery_date'] = pd.to_datetime(df['Requested_delivery_date'])\n",
    "df['Confirmed_delivery_date'] = pd.to_datetime(df['Confirmed_delivery_date'])\n",
    "df['Delivery_Date'] = pd.to_datetime(df['Delivery_Date'])\n",
    "df.dtypes"
   ]
  },
  {
   "cell_type": "code",
   "execution_count": 6,
   "metadata": {},
   "outputs": [],
   "source": [
    "df = df[['Customer','Requested_delivery_date','Confirmed_delivery_date']]"
   ]
  },
  {
   "cell_type": "code",
   "execution_count": 7,
   "metadata": {},
   "outputs": [],
   "source": [
    "import seaborn as sns"
   ]
  },
  {
   "cell_type": "code",
   "execution_count": 8,
   "metadata": {},
   "outputs": [
    {
     "data": {
      "text/plain": [
       "<matplotlib.axes._subplots.AxesSubplot at 0x22a15c4ff98>"
      ]
     },
     "execution_count": 8,
     "metadata": {},
     "output_type": "execute_result"
    },
    {
     "data": {
      "image/png": "[encoded data removed]",
      "text/plain": [
       "<Figure size 432x288 with 1 Axes>"
      ]
     },
     "metadata": {
      "needs_background": "light"
     },
     "output_type": "display_data"
    }
   ],
   "source": [
    "sns.heatmap(df.isnull(),yticklabels=False,cbar=False,cmap='viridis')"
   ]
  },
  {
   "cell_type": "markdown",
   "metadata": {},
   "source": [
    "#### NOTE:\n",
    "I only dropped records where only Customer or Requested Delivery Date were null and not where Requested delivery date, thinking that in that particular scenario company rejected that order leading to angry sentiment on customers side which would an important record. "
   ]
  },
  {
   "cell_type": "code",
   "execution_count": 9,
   "metadata": {
    "scrolled": false
   },
   "outputs": [],
   "source": [
    "df = df[df['Customer'].notnull() & df['Requested_delivery_date'].notnull()]\n",
    "df = df.reset_index()"
   ]
  },
  {
   "cell_type": "code",
   "execution_count": 10,
   "metadata": {},
   "outputs": [
    {
     "data": {
      "text/html": [
       "<div>\n",
       "<style scoped>\n",
       "    .dataframe tbody tr th:only-of-type {\n",
       "        vertical-align: middle;\n",
       "    }\n",
       "\n",
       "    .dataframe tbody tr th {\n",
       "        vertical-align: top;\n",
       "    }\n",
       "\n",
       "    .dataframe thead th {\n",
       "        text-align: right;\n",
       "    }\n",
       "</style>\n",
       "<table border=\"1\" class=\"dataframe\">\n",
       "  <thead>\n",
       "    <tr style=\"text-align: right;\">\n",
       "      <th></th>\n",
       "      <th>index</th>\n",
       "      <th>Customer</th>\n",
       "      <th>Requested_delivery_date</th>\n",
       "      <th>Confirmed_delivery_date</th>\n",
       "    </tr>\n",
       "  </thead>\n",
       "  <tbody>\n",
       "    <tr>\n",
       "      <td>14</td>\n",
       "      <td>18</td>\n",
       "      <td>26-GB0100</td>\n",
       "      <td>2020-04-20</td>\n",
       "      <td>NaT</td>\n",
       "    </tr>\n",
       "    <tr>\n",
       "      <td>34</td>\n",
       "      <td>38</td>\n",
       "      <td>26-GB0100</td>\n",
       "      <td>2020-04-20</td>\n",
       "      <td>NaT</td>\n",
       "    </tr>\n",
       "    <tr>\n",
       "      <td>84</td>\n",
       "      <td>91</td>\n",
       "      <td>26-GB0100</td>\n",
       "      <td>2020-04-21</td>\n",
       "      <td>NaT</td>\n",
       "    </tr>\n",
       "    <tr>\n",
       "      <td>100</td>\n",
       "      <td>110</td>\n",
       "      <td>I90000002</td>\n",
       "      <td>2020-04-16</td>\n",
       "      <td>NaT</td>\n",
       "    </tr>\n",
       "    <tr>\n",
       "      <td>206</td>\n",
       "      <td>217</td>\n",
       "      <td>I90000002</td>\n",
       "      <td>2020-04-17</td>\n",
       "      <td>NaT</td>\n",
       "    </tr>\n",
       "    <tr>\n",
       "      <td>...</td>\n",
       "      <td>...</td>\n",
       "      <td>...</td>\n",
       "      <td>...</td>\n",
       "      <td>...</td>\n",
       "    </tr>\n",
       "    <tr>\n",
       "      <td>7690</td>\n",
       "      <td>7803</td>\n",
       "      <td>26-GB0100</td>\n",
       "      <td>2020-05-04</td>\n",
       "      <td>NaT</td>\n",
       "    </tr>\n",
       "    <tr>\n",
       "      <td>9006</td>\n",
       "      <td>9123</td>\n",
       "      <td>26-GB0100</td>\n",
       "      <td>2020-05-04</td>\n",
       "      <td>NaT</td>\n",
       "    </tr>\n",
       "    <tr>\n",
       "      <td>9008</td>\n",
       "      <td>9125</td>\n",
       "      <td>26-GB0100</td>\n",
       "      <td>2020-04-28</td>\n",
       "      <td>NaT</td>\n",
       "    </tr>\n",
       "    <tr>\n",
       "      <td>9965</td>\n",
       "      <td>10088</td>\n",
       "      <td>26-GB0100</td>\n",
       "      <td>2020-04-21</td>\n",
       "      <td>NaT</td>\n",
       "    </tr>\n",
       "    <tr>\n",
       "      <td>9973</td>\n",
       "      <td>10096</td>\n",
       "      <td>26-GB0100</td>\n",
       "      <td>2020-04-17</td>\n",
       "      <td>NaT</td>\n",
       "    </tr>\n",
       "  </tbody>\n",
       "</table>\n",
       "<p>68 rows × 4 columns</p>\n",
       "</div>"
      ],
      "text/plain": [
       "      index   Customer Requested_delivery_date Confirmed_delivery_date\n",
       "14       18  26-GB0100              2020-04-20                     NaT\n",
       "34       38  26-GB0100              2020-04-20                     NaT\n",
       "84       91  26-GB0100              2020-04-21                     NaT\n",
       "100     110  I90000002              2020-04-16                     NaT\n",
       "206     217  I90000002              2020-04-17                     NaT\n",
       "...     ...        ...                     ...                     ...\n",
       "7690   7803  26-GB0100              2020-05-04                     NaT\n",
       "9006   9123  26-GB0100              2020-05-04                     NaT\n",
       "9008   9125  26-GB0100              2020-04-28                     NaT\n",
       "9965  10088  26-GB0100              2020-04-21                     NaT\n",
       "9973  10096  26-GB0100              2020-04-17                     NaT\n",
       "\n",
       "[68 rows x 4 columns]"
      ]
     },
     "execution_count": 10,
     "metadata": {},
     "output_type": "execute_result"
    }
   ],
   "source": [
    "df[df['Confirmed_delivery_date'].isnull()]"
   ]
  },
  {
   "cell_type": "code",
   "execution_count": 11,
   "metadata": {},
   "outputs": [
    {
     "data": {
      "text/html": [
       "<div>\n",
       "<style scoped>\n",
       "    .dataframe tbody tr th:only-of-type {\n",
       "        vertical-align: middle;\n",
       "    }\n",
       "\n",
       "    .dataframe tbody tr th {\n",
       "        vertical-align: top;\n",
       "    }\n",
       "\n",
       "    .dataframe thead th {\n",
       "        text-align: right;\n",
       "    }\n",
       "</style>\n",
       "<table border=\"1\" class=\"dataframe\">\n",
       "  <thead>\n",
       "    <tr style=\"text-align: right;\">\n",
       "      <th></th>\n",
       "      <th>index</th>\n",
       "      <th>Customer</th>\n",
       "      <th>Requested_delivery_date</th>\n",
       "      <th>Confirmed_delivery_date</th>\n",
       "    </tr>\n",
       "  </thead>\n",
       "  <tbody>\n",
       "    <tr>\n",
       "      <td>0</td>\n",
       "      <td>0</td>\n",
       "      <td>CJ200</td>\n",
       "      <td>2020-04-07</td>\n",
       "      <td>2020-04-07</td>\n",
       "    </tr>\n",
       "    <tr>\n",
       "      <td>1</td>\n",
       "      <td>1</td>\n",
       "      <td>CJ110</td>\n",
       "      <td>2020-04-07</td>\n",
       "      <td>2020-04-07</td>\n",
       "    </tr>\n",
       "    <tr>\n",
       "      <td>2</td>\n",
       "      <td>2</td>\n",
       "      <td>AL115</td>\n",
       "      <td>2020-05-11</td>\n",
       "      <td>2020-05-11</td>\n",
       "    </tr>\n",
       "    <tr>\n",
       "      <td>3</td>\n",
       "      <td>3</td>\n",
       "      <td>49-2001</td>\n",
       "      <td>2020-02-04</td>\n",
       "      <td>2020-02-04</td>\n",
       "    </tr>\n",
       "    <tr>\n",
       "      <td>4</td>\n",
       "      <td>4</td>\n",
       "      <td>49-2001</td>\n",
       "      <td>2020-02-04</td>\n",
       "      <td>2020-02-04</td>\n",
       "    </tr>\n",
       "  </tbody>\n",
       "</table>\n",
       "</div>"
      ],
      "text/plain": [
       "   index Customer Requested_delivery_date Confirmed_delivery_date\n",
       "0      0    CJ200              2020-04-07              2020-04-07\n",
       "1      1    CJ110              2020-04-07              2020-04-07\n",
       "2      2    AL115              2020-05-11              2020-05-11\n",
       "3      3  49-2001              2020-02-04              2020-02-04\n",
       "4      4  49-2001              2020-02-04              2020-02-04"
      ]
     },
     "execution_count": 11,
     "metadata": {},
     "output_type": "execute_result"
    }
   ],
   "source": [
    "df.head(5)"
   ]
  },
  {
   "cell_type": "code",
   "execution_count": 24,
   "metadata": {},
   "outputs": [],
   "source": [
    "df['days_gap'] = (df['Confirmed_delivery_date'] - df['Requested_delivery_date']).dt.days"
   ]
  },
  {
   "cell_type": "code",
   "execution_count": 13,
   "metadata": {},
   "outputs": [
    {
     "data": {
      "text/plain": [
       "array([ 0.000e+00, -6.000e+00,        nan, -3.000e+00, -1.000e+00,\n",
       "       -2.200e+01,  6.000e+00, -2.800e+01, -2.000e+00, -2.700e+01,\n",
       "       -4.000e+00, -4.700e+01,  1.000e+00, -2.100e+01, -7.000e+00,\n",
       "       -9.000e+00, -2.900e+01, -2.300e+01, -1.100e+01,  1.500e+01,\n",
       "        9.000e+00, -7.400e+01, -8.000e+00, -1.700e+01, -5.000e+00,\n",
       "       -4.100e+01, -5.900e+01, -1.200e+01,  2.000e+00, -4.300e+01,\n",
       "       -3.700e+01,  4.000e+00, -1.730e+02, -1.000e+01, -1.050e+02,\n",
       "       -7.500e+01,  2.300e+01,  3.000e+00, -1.600e+01, -6.200e+01,\n",
       "       -1.400e+01, -1.900e+01, -1.410e+02, -2.670e+02,  8.000e+00,\n",
       "        5.000e+00,  1.400e+01, -1.670e+02,  2.390e+02, -6.700e+01,\n",
       "       -2.360e+02, -1.300e+01,  1.300e+01, -5.300e+01, -2.330e+02,\n",
       "       -6.910e+02, -1.160e+02, -6.920e+02, -1.430e+02, -6.900e+01,\n",
       "       -2.000e+01, -1.700e+02, -3.500e+01, -1.500e+01, -5.800e+01,\n",
       "       -1.800e+02, -2.150e+02, -4.000e+01, -3.900e+01, -3.650e+02,\n",
       "        4.200e+01, -6.400e+01,  1.900e+01, -9.100e+01,  4.300e+01,\n",
       "        1.800e+01, -3.010e+02, -2.290e+02, -3.400e+01, -1.820e+02,\n",
       "       -2.090e+02, -2.600e+01,  1.600e+01, -4.500e+01, -5.700e+01,\n",
       "       -4.390e+02, -3.000e+01, -4.735e+03, -2.370e+02, -6.900e+02,\n",
       "       -1.950e+02, -5.100e+01, -1.940e+02, -9.900e+01, -1.680e+02])"
      ]
     },
     "execution_count": 13,
     "metadata": {},
     "output_type": "execute_result"
    }
   ],
   "source": [
    "df['days_gap'].unique()"
   ]
  },
  {
   "cell_type": "markdown",
   "metadata": {},
   "source": [
    "#### NOTE:\n",
    "Filled the day gaps values when Delivery date was not confirmed.\n",
    "Value filled here is twice the maximum day gap present in the whole data."
   ]
  },
  {
   "cell_type": "code",
   "execution_count": 14,
   "metadata": {},
   "outputs": [],
   "source": [
    "df['days_gap'].fillna(value = 2*(df.iloc[:,4].max()), inplace = True)"
   ]
  },
  {
   "cell_type": "code",
   "execution_count": 15,
   "metadata": {},
   "outputs": [
    {
     "data": {
      "text/plain": [
       "array([ 0.000e+00, -6.000e+00,  4.780e+02, -3.000e+00, -1.000e+00,\n",
       "       -2.200e+01,  6.000e+00, -2.800e+01, -2.000e+00, -2.700e+01,\n",
       "       -4.000e+00, -4.700e+01,  1.000e+00, -2.100e+01, -7.000e+00,\n",
       "       -9.000e+00, -2.900e+01, -2.300e+01, -1.100e+01,  1.500e+01,\n",
       "        9.000e+00, -7.400e+01, -8.000e+00, -1.700e+01, -5.000e+00,\n",
       "       -4.100e+01, -5.900e+01, -1.200e+01,  2.000e+00, -4.300e+01,\n",
       "       -3.700e+01,  4.000e+00, -1.730e+02, -1.000e+01, -1.050e+02,\n",
       "       -7.500e+01,  2.300e+01,  3.000e+00, -1.600e+01, -6.200e+01,\n",
       "       -1.400e+01, -1.900e+01, -1.410e+02, -2.670e+02,  8.000e+00,\n",
       "        5.000e+00,  1.400e+01, -1.670e+02,  2.390e+02, -6.700e+01,\n",
       "       -2.360e+02, -1.300e+01,  1.300e+01, -5.300e+01, -2.330e+02,\n",
       "       -6.910e+02, -1.160e+02, -6.920e+02, -1.430e+02, -6.900e+01,\n",
       "       -2.000e+01, -1.700e+02, -3.500e+01, -1.500e+01, -5.800e+01,\n",
       "       -1.800e+02, -2.150e+02, -4.000e+01, -3.900e+01, -3.650e+02,\n",
       "        4.200e+01, -6.400e+01,  1.900e+01, -9.100e+01,  4.300e+01,\n",
       "        1.800e+01, -3.010e+02, -2.290e+02, -3.400e+01, -1.820e+02,\n",
       "       -2.090e+02, -2.600e+01,  1.600e+01, -4.500e+01, -5.700e+01,\n",
       "       -4.390e+02, -3.000e+01, -4.735e+03, -2.370e+02, -6.900e+02,\n",
       "       -1.950e+02, -5.100e+01, -1.940e+02, -9.900e+01, -1.680e+02])"
      ]
     },
     "execution_count": 15,
     "metadata": {},
     "output_type": "execute_result"
    }
   ],
   "source": [
    "df['days_gap'].unique()"
   ]
  },
  {
   "cell_type": "code",
   "execution_count": 16,
   "metadata": {},
   "outputs": [
    {
     "name": "stderr",
     "output_type": "stream",
     "text": [
      "C:\\ProgramData\\Anaconda3\\lib\\site-packages\\ipykernel_launcher.py:6: FutureWarning: set_value is deprecated and will be removed in a future release. Please use .at[] or .iat[] accessors instead\n",
      "  \n",
      "C:\\ProgramData\\Anaconda3\\lib\\site-packages\\ipykernel_launcher.py:10: FutureWarning: set_value is deprecated and will be removed in a future release. Please use .at[] or .iat[] accessors instead\n",
      "  # Remove the CWD from sys.path while we load stuff.\n",
      "C:\\ProgramData\\Anaconda3\\lib\\site-packages\\ipykernel_launcher.py:8: FutureWarning: set_value is deprecated and will be removed in a future release. Please use .at[] or .iat[] accessors instead\n",
      "  \n"
     ]
    }
   ],
   "source": [
    "days = df['Requested_delivery_date'].dt.day.unique()\n",
    "days.sort()\n",
    "# print(days)\n",
    "for i in range(0, df.shape[0]):\n",
    "    if(df['Requested_delivery_date'].dt.day[i] <= days[10]):\n",
    "        df.set_value(i, 'days_gap', df['days_gap'][i]*0.25)\n",
    "    elif((df['Requested_delivery_date'].dt.day[i] > days[10]) & (df['Requested_delivery_date'].dt.day[i] <= days[20])):\n",
    "        df.set_value(i, 'days_gap', df['days_gap'][i]*0.5)\n",
    "    else:\n",
    "        df.set_value(i, 'days_gap', df['days_gap'][i]*1.0)"
   ]
  },
  {
   "cell_type": "code",
   "execution_count": 22,
   "metadata": {},
   "outputs": [
    {
     "data": {
      "text/html": [
       "<div>\n",
       "<style scoped>\n",
       "    .dataframe tbody tr th:only-of-type {\n",
       "        vertical-align: middle;\n",
       "    }\n",
       "\n",
       "    .dataframe tbody tr th {\n",
       "        vertical-align: top;\n",
       "    }\n",
       "\n",
       "    .dataframe thead th {\n",
       "        text-align: right;\n",
       "    }\n",
       "</style>\n",
       "<table border=\"1\" class=\"dataframe\">\n",
       "  <thead>\n",
       "    <tr style=\"text-align: right;\">\n",
       "      <th></th>\n",
       "      <th>Customer</th>\n",
       "      <th>Requested_delivery_date</th>\n",
       "      <th>Confirmed_delivery_date</th>\n",
       "      <th>days_gap</th>\n",
       "    </tr>\n",
       "  </thead>\n",
       "  <tbody>\n",
       "    <tr>\n",
       "      <td>0</td>\n",
       "      <td>CJ200</td>\n",
       "      <td>2020-04-07</td>\n",
       "      <td>2020-04-07</td>\n",
       "      <td>0.0</td>\n",
       "    </tr>\n",
       "    <tr>\n",
       "      <td>1</td>\n",
       "      <td>CJ110</td>\n",
       "      <td>2020-04-07</td>\n",
       "      <td>2020-04-07</td>\n",
       "      <td>0.0</td>\n",
       "    </tr>\n",
       "    <tr>\n",
       "      <td>2</td>\n",
       "      <td>AL115</td>\n",
       "      <td>2020-05-11</td>\n",
       "      <td>2020-05-11</td>\n",
       "      <td>0.0</td>\n",
       "    </tr>\n",
       "    <tr>\n",
       "      <td>3</td>\n",
       "      <td>49-2001</td>\n",
       "      <td>2020-02-04</td>\n",
       "      <td>2020-02-04</td>\n",
       "      <td>0.0</td>\n",
       "    </tr>\n",
       "    <tr>\n",
       "      <td>4</td>\n",
       "      <td>49-2001</td>\n",
       "      <td>2020-02-04</td>\n",
       "      <td>2020-02-04</td>\n",
       "      <td>0.0</td>\n",
       "    </tr>\n",
       "    <tr>\n",
       "      <td>...</td>\n",
       "      <td>...</td>\n",
       "      <td>...</td>\n",
       "      <td>...</td>\n",
       "      <td>...</td>\n",
       "    </tr>\n",
       "    <tr>\n",
       "      <td>10865</td>\n",
       "      <td>26-37456</td>\n",
       "      <td>2019-03-19</td>\n",
       "      <td>2019-03-21</td>\n",
       "      <td>-1.0</td>\n",
       "    </tr>\n",
       "    <tr>\n",
       "      <td>10866</td>\n",
       "      <td>26-37456</td>\n",
       "      <td>2019-03-26</td>\n",
       "      <td>2019-03-27</td>\n",
       "      <td>-1.0</td>\n",
       "    </tr>\n",
       "    <tr>\n",
       "      <td>10867</td>\n",
       "      <td>43400020</td>\n",
       "      <td>2019-03-28</td>\n",
       "      <td>2019-05-29</td>\n",
       "      <td>-62.0</td>\n",
       "    </tr>\n",
       "    <tr>\n",
       "      <td>10868</td>\n",
       "      <td>26-8001</td>\n",
       "      <td>2019-08-16</td>\n",
       "      <td>2019-08-21</td>\n",
       "      <td>-2.5</td>\n",
       "    </tr>\n",
       "    <tr>\n",
       "      <td>10869</td>\n",
       "      <td>49000001</td>\n",
       "      <td>2019-12-13</td>\n",
       "      <td>2019-12-12</td>\n",
       "      <td>0.5</td>\n",
       "    </tr>\n",
       "  </tbody>\n",
       "</table>\n",
       "<p>10870 rows × 4 columns</p>\n",
       "</div>"
      ],
      "text/plain": [
       "       Customer Requested_delivery_date Confirmed_delivery_date  days_gap\n",
       "0         CJ200              2020-04-07              2020-04-07       0.0\n",
       "1         CJ110              2020-04-07              2020-04-07       0.0\n",
       "2         AL115              2020-05-11              2020-05-11       0.0\n",
       "3       49-2001              2020-02-04              2020-02-04       0.0\n",
       "4       49-2001              2020-02-04              2020-02-04       0.0\n",
       "...         ...                     ...                     ...       ...\n",
       "10865  26-37456              2019-03-19              2019-03-21      -1.0\n",
       "10866  26-37456              2019-03-26              2019-03-27      -1.0\n",
       "10867  43400020              2019-03-28              2019-05-29     -62.0\n",
       "10868   26-8001              2019-08-16              2019-08-21      -2.5\n",
       "10869  49000001              2019-12-13              2019-12-12       0.5\n",
       "\n",
       "[10870 rows x 4 columns]"
      ]
     },
     "execution_count": 22,
     "metadata": {},
     "output_type": "execute_result"
    }
   ],
   "source": [
    "df"
   ]
  },
  {
   "cell_type": "code",
   "execution_count": 28,
   "metadata": {},
   "outputs": [
    {
     "name": "stdout",
     "output_type": "stream",
     "text": [
      "4735.0 -239.0\n"
     ]
    }
   ],
   "source": [
    "print(max(df['days_gap']), min(df['days_gap']))"
   ]
  },
  {
   "cell_type": "code",
   "execution_count": 32,
   "metadata": {},
   "outputs": [
    {
     "data": {
      "text/plain": [
       "241"
      ]
     },
     "execution_count": 32,
     "metadata": {},
     "output_type": "execute_result"
    }
   ],
   "source": [
    "df['Customer'].nunique()"
   ]
  },
  {
   "cell_type": "markdown",
   "metadata": {},
   "source": [
    "### Customer Segmentation based on own logic"
   ]
  },
  {
   "cell_type": "code",
   "execution_count": 26,
   "metadata": {
    "scrolled": false
   },
   "outputs": [
    {
     "name": "stderr",
     "output_type": "stream",
     "text": [
      "C:\\ProgramData\\Anaconda3\\lib\\site-packages\\ipykernel_launcher.py:5: FutureWarning: set_value is deprecated and will be removed in a future release. Please use .at[] or .iat[] accessors instead\n",
      "  \"\"\"\n",
      "C:\\ProgramData\\Anaconda3\\lib\\site-packages\\ipykernel_launcher.py:14: FutureWarning: set_value is deprecated and will be removed in a future release. Please use .at[] or .iat[] accessors instead\n",
      "  \n",
      "C:\\ProgramData\\Anaconda3\\lib\\site-packages\\ipykernel_launcher.py:15: FutureWarning: set_value is deprecated and will be removed in a future release. Please use .at[] or .iat[] accessors instead\n",
      "  from ipykernel import kernelapp as app\n",
      "C:\\ProgramData\\Anaconda3\\lib\\site-packages\\ipykernel_launcher.py:16: FutureWarning: set_value is deprecated and will be removed in a future release. Please use .at[] or .iat[] accessors instead\n",
      "  app.launch_new_instance()\n",
      "C:\\ProgramData\\Anaconda3\\lib\\site-packages\\ipykernel_launcher.py:19: FutureWarning: set_value is deprecated and will be removed in a future release. Please use .at[] or .iat[] accessors instead\n"
     ]
    },
    {
     "data": {
      "text/html": [
       "<div>\n",
       "<style scoped>\n",
       "    .dataframe tbody tr th:only-of-type {\n",
       "        vertical-align: middle;\n",
       "    }\n",
       "\n",
       "    .dataframe tbody tr th {\n",
       "        vertical-align: top;\n",
       "    }\n",
       "\n",
       "    .dataframe thead th {\n",
       "        text-align: right;\n",
       "    }\n",
       "</style>\n",
       "<table border=\"1\" class=\"dataframe\">\n",
       "  <thead>\n",
       "    <tr style=\"text-align: right;\">\n",
       "      <th></th>\n",
       "      <th>Customer</th>\n",
       "      <th>prob_h</th>\n",
       "      <th>prob_n</th>\n",
       "      <th>prob_a</th>\n",
       "      <th>label</th>\n",
       "    </tr>\n",
       "  </thead>\n",
       "  <tbody>\n",
       "    <tr>\n",
       "      <td>0</td>\n",
       "      <td>1</td>\n",
       "      <td>0</td>\n",
       "      <td>1</td>\n",
       "      <td>0</td>\n",
       "      <td>1</td>\n",
       "    </tr>\n",
       "    <tr>\n",
       "      <td>1</td>\n",
       "      <td>103985</td>\n",
       "      <td>0.964029</td>\n",
       "      <td>0.0143885</td>\n",
       "      <td>0.0215827</td>\n",
       "      <td>0</td>\n",
       "    </tr>\n",
       "    <tr>\n",
       "      <td>2</td>\n",
       "      <td>26-0001</td>\n",
       "      <td>0.94382</td>\n",
       "      <td>0.0561798</td>\n",
       "      <td>0</td>\n",
       "      <td>0</td>\n",
       "    </tr>\n",
       "    <tr>\n",
       "      <td>3</td>\n",
       "      <td>26-0101</td>\n",
       "      <td>0.989041</td>\n",
       "      <td>0.0109589</td>\n",
       "      <td>0</td>\n",
       "      <td>0</td>\n",
       "    </tr>\n",
       "    <tr>\n",
       "      <td>4</td>\n",
       "      <td>26-0102</td>\n",
       "      <td>1</td>\n",
       "      <td>0</td>\n",
       "      <td>0</td>\n",
       "      <td>0</td>\n",
       "    </tr>\n",
       "    <tr>\n",
       "      <td>...</td>\n",
       "      <td>...</td>\n",
       "      <td>...</td>\n",
       "      <td>...</td>\n",
       "      <td>...</td>\n",
       "      <td>...</td>\n",
       "    </tr>\n",
       "    <tr>\n",
       "      <td>236</td>\n",
       "      <td>Y99UK1</td>\n",
       "      <td>0.591837</td>\n",
       "      <td>0.387755</td>\n",
       "      <td>0.0204082</td>\n",
       "      <td>0</td>\n",
       "    </tr>\n",
       "    <tr>\n",
       "      <td>237</td>\n",
       "      <td>Y99UK2</td>\n",
       "      <td>0.251572</td>\n",
       "      <td>0.578616</td>\n",
       "      <td>0.169811</td>\n",
       "      <td>1</td>\n",
       "    </tr>\n",
       "    <tr>\n",
       "      <td>238</td>\n",
       "      <td>YINT901</td>\n",
       "      <td>0.280702</td>\n",
       "      <td>0.719298</td>\n",
       "      <td>0</td>\n",
       "      <td>1</td>\n",
       "    </tr>\n",
       "    <tr>\n",
       "      <td>239</td>\n",
       "      <td>YINTSE1</td>\n",
       "      <td>0.192308</td>\n",
       "      <td>0.807692</td>\n",
       "      <td>0</td>\n",
       "      <td>1</td>\n",
       "    </tr>\n",
       "    <tr>\n",
       "      <td>240</td>\n",
       "      <td>Z99_001</td>\n",
       "      <td>0</td>\n",
       "      <td>1</td>\n",
       "      <td>0</td>\n",
       "      <td>1</td>\n",
       "    </tr>\n",
       "  </tbody>\n",
       "</table>\n",
       "<p>241 rows × 5 columns</p>\n",
       "</div>"
      ],
      "text/plain": [
       "    Customer    prob_h     prob_n     prob_a label\n",
       "0          1         0          1          0     1\n",
       "1     103985  0.964029  0.0143885  0.0215827     0\n",
       "2    26-0001   0.94382  0.0561798          0     0\n",
       "3    26-0101  0.989041  0.0109589          0     0\n",
       "4    26-0102         1          0          0     0\n",
       "..       ...       ...        ...        ...   ...\n",
       "236   Y99UK1  0.591837   0.387755  0.0204082     0\n",
       "237   Y99UK2  0.251572   0.578616   0.169811     1\n",
       "238  YINT901  0.280702   0.719298          0     1\n",
       "239  YINTSE1  0.192308   0.807692          0     1\n",
       "240  Z99_001         0          1          0     1\n",
       "\n",
       "[241 rows x 5 columns]"
      ]
     },
     "execution_count": 26,
     "metadata": {},
     "output_type": "execute_result"
    }
   ],
   "source": [
    "s=0\n",
    "dicto = {'h':0,'n':1,'a':2}\n",
    "customer_mood = pd.DataFrame(columns=['Customer', 'prob_h', 'prob_n', 'prob_a', 'label'])\n",
    "for name,group in df.groupby('Customer'):\n",
    "    customer_mood.set_value(s,'Customer', name)\n",
    "#     customer_mood['Customer'] = name\n",
    "    h = len(group[group['days_gap']<=0]) \n",
    "#     n = len(group[group['days_gap']>0 | group['days_gap']<=30])\n",
    "    a = len(group[group['days_gap']>30])\n",
    "    t = len(group['days_gap'])\n",
    "    a += len(group[np.isnan(group['days_gap'])])\n",
    "    n = t-a-h\n",
    "    var = {h:'h',a:'a',n:'n'}\n",
    "    customer_mood.set_value(s,'prob_h', h/t)\n",
    "    customer_mood.set_value(s,'prob_n', n/t)\n",
    "    customer_mood.set_value(s,'prob_a', a/t)\n",
    "#     customer_mood.iloc[s,3] = n/t\n",
    "#     customer_mood.iloc[s,4] = a/t\n",
    "    customer_mood.set_value(s,'label', dicto[var.get(max(var))])\n",
    "    s = s + 1\n",
    "    \n",
    "customer_mood\n"
   ]
  },
  {
   "cell_type": "code",
   "execution_count": 27,
   "metadata": {},
   "outputs": [
    {
     "data": {
      "text/plain": [
       "0    173\n",
       "1     66\n",
       "2      2\n",
       "Name: label, dtype: int64"
      ]
     },
     "execution_count": 27,
     "metadata": {},
     "output_type": "execute_result"
    }
   ],
   "source": [
    "customer_mood['label'].value_counts()"
   ]
  },
  {
   "cell_type": "markdown",
   "metadata": {},
   "source": [
    "### Customer Segmentation based on Agglomerative Clustering"
   ]
  },
  {
   "cell_type": "code",
   "execution_count": 75,
   "metadata": {},
   "outputs": [],
   "source": [
    "X = customer_mood.drop(['label','Customer'], axis=1)"
   ]
  },
  {
   "cell_type": "code",
   "execution_count": 76,
   "metadata": {},
   "outputs": [],
   "source": [
    "from sklearn.cluster import AgglomerativeClustering"
   ]
  },
  {
   "cell_type": "code",
   "execution_count": 77,
   "metadata": {},
   "outputs": [],
   "source": [
    "cluster = AgglomerativeClustering(n_clusters=3, affinity='euclidean', linkage='ward')\n",
    "new_labels = cluster.fit_predict(X)"
   ]
  },
  {
   "cell_type": "code",
   "execution_count": 78,
   "metadata": {},
   "outputs": [
    {
     "data": {
      "text/plain": [
       "(array([0, 1, 2], dtype=int64), array([ 10, 228,   3], dtype=int64))"
      ]
     },
     "execution_count": 78,
     "metadata": {},
     "output_type": "execute_result"
    }
   ],
   "source": [
    "np.unique(new_labels, return_counts=True)"
   ]
  },
  {
   "cell_type": "code",
   "execution_count": 79,
   "metadata": {},
   "outputs": [],
   "source": [
    "customer_mood = customer_mood.join(pd.DataFrame(data=new_labels, columns=['new_labels']))"
   ]
  },
  {
   "cell_type": "code",
   "execution_count": 80,
   "metadata": {},
   "outputs": [
    {
     "data": {
      "text/html": [
       "<div>\n",
       "<style scoped>\n",
       "    .dataframe tbody tr th:only-of-type {\n",
       "        vertical-align: middle;\n",
       "    }\n",
       "\n",
       "    .dataframe tbody tr th {\n",
       "        vertical-align: top;\n",
       "    }\n",
       "\n",
       "    .dataframe thead th {\n",
       "        text-align: right;\n",
       "    }\n",
       "</style>\n",
       "<table border=\"1\" class=\"dataframe\">\n",
       "  <thead>\n",
       "    <tr style=\"text-align: right;\">\n",
       "      <th></th>\n",
       "      <th>Customer</th>\n",
       "      <th>prob_h</th>\n",
       "      <th>prob_n</th>\n",
       "      <th>prob_a</th>\n",
       "      <th>label</th>\n",
       "      <th>new_labels</th>\n",
       "    </tr>\n",
       "  </thead>\n",
       "  <tbody>\n",
       "    <tr>\n",
       "      <td>0</td>\n",
       "      <td>1</td>\n",
       "      <td>1</td>\n",
       "      <td>0</td>\n",
       "      <td>0</td>\n",
       "      <td>0</td>\n",
       "      <td>1</td>\n",
       "    </tr>\n",
       "    <tr>\n",
       "      <td>1</td>\n",
       "      <td>103985</td>\n",
       "      <td>1</td>\n",
       "      <td>0</td>\n",
       "      <td>0</td>\n",
       "      <td>0</td>\n",
       "      <td>1</td>\n",
       "    </tr>\n",
       "    <tr>\n",
       "      <td>2</td>\n",
       "      <td>26-0001</td>\n",
       "      <td>1</td>\n",
       "      <td>0</td>\n",
       "      <td>0</td>\n",
       "      <td>0</td>\n",
       "      <td>1</td>\n",
       "    </tr>\n",
       "    <tr>\n",
       "      <td>3</td>\n",
       "      <td>26-0101</td>\n",
       "      <td>1</td>\n",
       "      <td>0</td>\n",
       "      <td>0</td>\n",
       "      <td>0</td>\n",
       "      <td>1</td>\n",
       "    </tr>\n",
       "    <tr>\n",
       "      <td>4</td>\n",
       "      <td>26-0102</td>\n",
       "      <td>1</td>\n",
       "      <td>0</td>\n",
       "      <td>0</td>\n",
       "      <td>0</td>\n",
       "      <td>1</td>\n",
       "    </tr>\n",
       "  </tbody>\n",
       "</table>\n",
       "</div>"
      ],
      "text/plain": [
       "  Customer prob_h prob_n prob_a label  new_labels\n",
       "0        1      1      0      0     0           1\n",
       "1   103985      1      0      0     0           1\n",
       "2  26-0001      1      0      0     0           1\n",
       "3  26-0101      1      0      0     0           1\n",
       "4  26-0102      1      0      0     0           1"
      ]
     },
     "execution_count": 80,
     "metadata": {},
     "output_type": "execute_result"
    }
   ],
   "source": [
    "customer_mood.head()"
   ]
  },
  {
   "cell_type": "code",
   "execution_count": 81,
   "metadata": {},
   "outputs": [
    {
     "data": {
      "text/plain": [
       "1    228\n",
       "0     10\n",
       "2      3\n",
       "Name: new_labels, dtype: int64"
      ]
     },
     "execution_count": 81,
     "metadata": {},
     "output_type": "execute_result"
    }
   ],
   "source": [
    "customer_mood['new_labels'].value_counts()"
   ]
  },
  {
   "cell_type": "code",
   "execution_count": 82,
   "metadata": {},
   "outputs": [
    {
     "data": {
      "text/plain": [
       "0    233\n",
       "1      5\n",
       "2      3\n",
       "Name: label, dtype: int64"
      ]
     },
     "execution_count": 82,
     "metadata": {},
     "output_type": "execute_result"
    }
   ],
   "source": [
    "customer_mood['label'].value_counts()"
   ]
  },
  {
   "cell_type": "code",
   "execution_count": 90,
   "metadata": {},
   "outputs": [
    {
     "data": {
      "text/html": [
       "<div>\n",
       "<style scoped>\n",
       "    .dataframe tbody tr th:only-of-type {\n",
       "        vertical-align: middle;\n",
       "    }\n",
       "\n",
       "    .dataframe tbody tr th {\n",
       "        vertical-align: top;\n",
       "    }\n",
       "\n",
       "    .dataframe thead th {\n",
       "        text-align: right;\n",
       "    }\n",
       "</style>\n",
       "<table border=\"1\" class=\"dataframe\">\n",
       "  <thead>\n",
       "    <tr style=\"text-align: right;\">\n",
       "      <th></th>\n",
       "      <th>index</th>\n",
       "      <th>Customer</th>\n",
       "      <th>Requested_delivery_date</th>\n",
       "      <th>Confirmed_delivery_date</th>\n",
       "      <th>days_gap</th>\n",
       "    </tr>\n",
       "  </thead>\n",
       "  <tbody>\n",
       "    <tr>\n",
       "      <td>23</td>\n",
       "      <td>27</td>\n",
       "      <td>43NE01000</td>\n",
       "      <td>2020-03-03</td>\n",
       "      <td>2020-03-04</td>\n",
       "      <td>-0.25</td>\n",
       "    </tr>\n",
       "    <tr>\n",
       "      <td>29</td>\n",
       "      <td>33</td>\n",
       "      <td>103985</td>\n",
       "      <td>2020-03-19</td>\n",
       "      <td>2020-03-19</td>\n",
       "      <td>0.00</td>\n",
       "    </tr>\n",
       "    <tr>\n",
       "      <td>122</td>\n",
       "      <td>132</td>\n",
       "      <td>26-1310</td>\n",
       "      <td>2020-04-30</td>\n",
       "      <td>2020-05-02</td>\n",
       "      <td>-2.00</td>\n",
       "    </tr>\n",
       "    <tr>\n",
       "      <td>151</td>\n",
       "      <td>161</td>\n",
       "      <td>CJ200</td>\n",
       "      <td>2020-03-18</td>\n",
       "      <td>2020-03-18</td>\n",
       "      <td>0.00</td>\n",
       "    </tr>\n",
       "    <tr>\n",
       "      <td>180</td>\n",
       "      <td>191</td>\n",
       "      <td>26-4002</td>\n",
       "      <td>2019-03-27</td>\n",
       "      <td>2019-03-27</td>\n",
       "      <td>0.00</td>\n",
       "    </tr>\n",
       "    <tr>\n",
       "      <td>228</td>\n",
       "      <td>240</td>\n",
       "      <td>88010</td>\n",
       "      <td>2020-02-18</td>\n",
       "      <td>2020-02-27</td>\n",
       "      <td>-4.50</td>\n",
       "    </tr>\n",
       "    <tr>\n",
       "      <td>234</td>\n",
       "      <td>246</td>\n",
       "      <td>26-37466</td>\n",
       "      <td>2018-11-30</td>\n",
       "      <td>2018-11-29</td>\n",
       "      <td>1.00</td>\n",
       "    </tr>\n",
       "    <tr>\n",
       "      <td>235</td>\n",
       "      <td>247</td>\n",
       "      <td>26-37466</td>\n",
       "      <td>2018-12-14</td>\n",
       "      <td>2018-11-29</td>\n",
       "      <td>7.50</td>\n",
       "    </tr>\n",
       "    <tr>\n",
       "      <td>237</td>\n",
       "      <td>249</td>\n",
       "      <td>43NE01000</td>\n",
       "      <td>2020-01-16</td>\n",
       "      <td>2020-01-16</td>\n",
       "      <td>0.00</td>\n",
       "    </tr>\n",
       "    <tr>\n",
       "      <td>238</td>\n",
       "      <td>250</td>\n",
       "      <td>PRECISION</td>\n",
       "      <td>2020-05-31</td>\n",
       "      <td>2020-05-31</td>\n",
       "      <td>0.00</td>\n",
       "    </tr>\n",
       "  </tbody>\n",
       "</table>\n",
       "</div>"
      ],
      "text/plain": [
       "     index   Customer Requested_delivery_date Confirmed_delivery_date  \\\n",
       "23      27  43NE01000              2020-03-03              2020-03-04   \n",
       "29      33     103985              2020-03-19              2020-03-19   \n",
       "122    132    26-1310              2020-04-30              2020-05-02   \n",
       "151    161      CJ200              2020-03-18              2020-03-18   \n",
       "180    191    26-4002              2019-03-27              2019-03-27   \n",
       "228    240      88010              2020-02-18              2020-02-27   \n",
       "234    246   26-37466              2018-11-30              2018-11-29   \n",
       "235    247   26-37466              2018-12-14              2018-11-29   \n",
       "237    249  43NE01000              2020-01-16              2020-01-16   \n",
       "238    250  PRECISION              2020-05-31              2020-05-31   \n",
       "\n",
       "     days_gap  \n",
       "23      -0.25  \n",
       "29       0.00  \n",
       "122     -2.00  \n",
       "151      0.00  \n",
       "180      0.00  \n",
       "228     -4.50  \n",
       "234      1.00  \n",
       "235      7.50  \n",
       "237      0.00  \n",
       "238      0.00  "
      ]
     },
     "execution_count": 90,
     "metadata": {},
     "output_type": "execute_result"
    }
   ],
   "source": [
    "df.iloc[customer_mood[customer_mood['new_labels'] == 0]['Customer'].index, :]"
   ]
  },
  {
   "cell_type": "code",
   "execution_count": 91,
   "metadata": {},
   "outputs": [
    {
     "data": {
      "text/html": [
       "<div>\n",
       "<style scoped>\n",
       "    .dataframe tbody tr th:only-of-type {\n",
       "        vertical-align: middle;\n",
       "    }\n",
       "\n",
       "    .dataframe tbody tr th {\n",
       "        vertical-align: top;\n",
       "    }\n",
       "\n",
       "    .dataframe thead th {\n",
       "        text-align: right;\n",
       "    }\n",
       "</style>\n",
       "<table border=\"1\" class=\"dataframe\">\n",
       "  <thead>\n",
       "    <tr style=\"text-align: right;\">\n",
       "      <th></th>\n",
       "      <th>index</th>\n",
       "      <th>Customer</th>\n",
       "      <th>Requested_delivery_date</th>\n",
       "      <th>Confirmed_delivery_date</th>\n",
       "      <th>days_gap</th>\n",
       "    </tr>\n",
       "  </thead>\n",
       "  <tbody>\n",
       "    <tr>\n",
       "      <td>0</td>\n",
       "      <td>0</td>\n",
       "      <td>CJ200</td>\n",
       "      <td>2020-04-07</td>\n",
       "      <td>2020-04-07</td>\n",
       "      <td>0.00</td>\n",
       "    </tr>\n",
       "    <tr>\n",
       "      <td>1</td>\n",
       "      <td>1</td>\n",
       "      <td>CJ110</td>\n",
       "      <td>2020-04-07</td>\n",
       "      <td>2020-04-07</td>\n",
       "      <td>0.00</td>\n",
       "    </tr>\n",
       "    <tr>\n",
       "      <td>2</td>\n",
       "      <td>2</td>\n",
       "      <td>AL115</td>\n",
       "      <td>2020-05-11</td>\n",
       "      <td>2020-05-11</td>\n",
       "      <td>0.00</td>\n",
       "    </tr>\n",
       "    <tr>\n",
       "      <td>3</td>\n",
       "      <td>3</td>\n",
       "      <td>49-2001</td>\n",
       "      <td>2020-02-04</td>\n",
       "      <td>2020-02-04</td>\n",
       "      <td>0.00</td>\n",
       "    </tr>\n",
       "    <tr>\n",
       "      <td>4</td>\n",
       "      <td>4</td>\n",
       "      <td>49-2001</td>\n",
       "      <td>2020-02-04</td>\n",
       "      <td>2020-02-04</td>\n",
       "      <td>0.00</td>\n",
       "    </tr>\n",
       "    <tr>\n",
       "      <td>...</td>\n",
       "      <td>...</td>\n",
       "      <td>...</td>\n",
       "      <td>...</td>\n",
       "      <td>...</td>\n",
       "      <td>...</td>\n",
       "    </tr>\n",
       "    <tr>\n",
       "      <td>232</td>\n",
       "      <td>244</td>\n",
       "      <td>26-4003</td>\n",
       "      <td>2020-01-22</td>\n",
       "      <td>2020-01-24</td>\n",
       "      <td>-2.00</td>\n",
       "    </tr>\n",
       "    <tr>\n",
       "      <td>233</td>\n",
       "      <td>245</td>\n",
       "      <td>26-1310</td>\n",
       "      <td>2020-04-28</td>\n",
       "      <td>2020-05-01</td>\n",
       "      <td>-3.00</td>\n",
       "    </tr>\n",
       "    <tr>\n",
       "      <td>236</td>\n",
       "      <td>248</td>\n",
       "      <td>26-37466</td>\n",
       "      <td>2018-12-14</td>\n",
       "      <td>2018-12-05</td>\n",
       "      <td>4.50</td>\n",
       "    </tr>\n",
       "    <tr>\n",
       "      <td>239</td>\n",
       "      <td>251</td>\n",
       "      <td>49-2001</td>\n",
       "      <td>2020-01-30</td>\n",
       "      <td>2020-01-30</td>\n",
       "      <td>0.00</td>\n",
       "    </tr>\n",
       "    <tr>\n",
       "      <td>240</td>\n",
       "      <td>252</td>\n",
       "      <td>43400020</td>\n",
       "      <td>2020-03-05</td>\n",
       "      <td>2020-03-06</td>\n",
       "      <td>-0.25</td>\n",
       "    </tr>\n",
       "  </tbody>\n",
       "</table>\n",
       "<p>228 rows × 5 columns</p>\n",
       "</div>"
      ],
      "text/plain": [
       "     index  Customer Requested_delivery_date Confirmed_delivery_date  days_gap\n",
       "0        0     CJ200              2020-04-07              2020-04-07      0.00\n",
       "1        1     CJ110              2020-04-07              2020-04-07      0.00\n",
       "2        2     AL115              2020-05-11              2020-05-11      0.00\n",
       "3        3   49-2001              2020-02-04              2020-02-04      0.00\n",
       "4        4   49-2001              2020-02-04              2020-02-04      0.00\n",
       "..     ...       ...                     ...                     ...       ...\n",
       "232    244   26-4003              2020-01-22              2020-01-24     -2.00\n",
       "233    245   26-1310              2020-04-28              2020-05-01     -3.00\n",
       "236    248  26-37466              2018-12-14              2018-12-05      4.50\n",
       "239    251   49-2001              2020-01-30              2020-01-30      0.00\n",
       "240    252  43400020              2020-03-05              2020-03-06     -0.25\n",
       "\n",
       "[228 rows x 5 columns]"
      ]
     },
     "execution_count": 91,
     "metadata": {},
     "output_type": "execute_result"
    }
   ],
   "source": [
    "df.iloc[customer_mood[customer_mood['new_labels'] == 1]['Customer'].index, :]"
   ]
  },
  {
   "cell_type": "code",
   "execution_count": 92,
   "metadata": {},
   "outputs": [
    {
     "data": {
      "text/html": [
       "<div>\n",
       "<style scoped>\n",
       "    .dataframe tbody tr th:only-of-type {\n",
       "        vertical-align: middle;\n",
       "    }\n",
       "\n",
       "    .dataframe tbody tr th {\n",
       "        vertical-align: top;\n",
       "    }\n",
       "\n",
       "    .dataframe thead th {\n",
       "        text-align: right;\n",
       "    }\n",
       "</style>\n",
       "<table border=\"1\" class=\"dataframe\">\n",
       "  <thead>\n",
       "    <tr style=\"text-align: right;\">\n",
       "      <th></th>\n",
       "      <th>index</th>\n",
       "      <th>Customer</th>\n",
       "      <th>Requested_delivery_date</th>\n",
       "      <th>Confirmed_delivery_date</th>\n",
       "      <th>days_gap</th>\n",
       "    </tr>\n",
       "  </thead>\n",
       "  <tbody>\n",
       "    <tr>\n",
       "      <td>47</td>\n",
       "      <td>54</td>\n",
       "      <td>103985</td>\n",
       "      <td>2020-03-17</td>\n",
       "      <td>2020-03-17</td>\n",
       "      <td>0.0</td>\n",
       "    </tr>\n",
       "    <tr>\n",
       "      <td>86</td>\n",
       "      <td>96</td>\n",
       "      <td>43CA10010</td>\n",
       "      <td>2020-03-17</td>\n",
       "      <td>2020-03-17</td>\n",
       "      <td>0.0</td>\n",
       "    </tr>\n",
       "    <tr>\n",
       "      <td>172</td>\n",
       "      <td>183</td>\n",
       "      <td>75-WD001</td>\n",
       "      <td>2020-04-22</td>\n",
       "      <td>2020-04-23</td>\n",
       "      <td>-1.0</td>\n",
       "    </tr>\n",
       "  </tbody>\n",
       "</table>\n",
       "</div>"
      ],
      "text/plain": [
       "     index   Customer Requested_delivery_date Confirmed_delivery_date  \\\n",
       "47      54     103985              2020-03-17              2020-03-17   \n",
       "86      96  43CA10010              2020-03-17              2020-03-17   \n",
       "172    183   75-WD001              2020-04-22              2020-04-23   \n",
       "\n",
       "     days_gap  \n",
       "47        0.0  \n",
       "86        0.0  \n",
       "172      -1.0  "
      ]
     },
     "execution_count": 92,
     "metadata": {},
     "output_type": "execute_result"
    }
   ],
   "source": [
    "df.iloc[customer_mood[customer_mood['new_labels'] == 2]['Customer'].index, :]"
   ]
  },
  {
   "cell_type": "markdown",
   "metadata": {},
   "source": [
    "### Customer sentiment per Order"
   ]
  },
  {
   "cell_type": "code",
   "execution_count": 83,
   "metadata": {},
   "outputs": [],
   "source": [
    "cluster = AgglomerativeClustering(n_clusters=3, affinity='euclidean', linkage='ward')\n",
    "new_labels2 = cluster.fit_predict(df['days_gap'].values.reshape(-1,1))"
   ]
  },
  {
   "cell_type": "code",
   "execution_count": 84,
   "metadata": {},
   "outputs": [
    {
     "data": {
      "text/plain": [
       "(array([0, 1, 2], dtype=int64), array([10795,     4,    71], dtype=int64))"
      ]
     },
     "execution_count": 84,
     "metadata": {},
     "output_type": "execute_result"
    }
   ],
   "source": [
    "np.unique(new_labels2, return_counts=True)"
   ]
  },
  {
   "cell_type": "code",
   "execution_count": null,
   "metadata": {},
   "outputs": [],
   "source": []
  },
  {
   "cell_type": "code",
   "execution_count": null,
   "metadata": {},
   "outputs": [],
   "source": []
  },
  {
   "cell_type": "code",
   "execution_count": null,
   "metadata": {},
   "outputs": [],
   "source": []
  }
 ],
 "metadata": {
  "kernelspec": {
   "display_name": "Python 3",
   "language": "python",
   "name": "python3"
  },
  "language_info": {
   "codemirror_mode": {
    "name": "ipython",
    "version": 3
   },
   "file_extension": ".py",
   "mimetype": "text/x-python",
   "name": "python",
   "nbconvert_exporter": "python",
   "pygments_lexer": "ipython3",
   "version": "3.8.5"
  }
 },
 "nbformat": 4,
 "nbformat_minor": 4
}
